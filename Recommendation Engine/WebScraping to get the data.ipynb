{
 "cells": [
  {
   "cell_type": "code",
   "execution_count": 1,
   "metadata": {},
   "outputs": [],
   "source": [
    "import urllib\n",
    "import bs4\n",
    "import re"
   ]
  },
  {
   "cell_type": "code",
   "execution_count": 2,
   "metadata": {},
   "outputs": [],
   "source": [
    "page = urllib.request.urlopen('https://zenrays.com/software-courses-in-bangalore')\n",
    "# https://zenrays.com/software-courses-in-bangalore\n",
    "# ai = urllib.request.urlopen('https://zenrays.com/artificial-intelligence-machine-learning-training-in-bangalore')\n",
    "# ml = urllib.request.urlopen(\"https://zenrays.com/machine-learning-training-in-bangalore\")\n",
    "# angular = urllib.request.urlopen(\"https://zenrays.com/angularjs-training-in-bangalore\")"
   ]
  },
  {
   "cell_type": "code",
   "execution_count": 3,
   "metadata": {},
   "outputs": [],
   "source": [
    "# soup = bs4.BeautifulSoup(page,'lxml')\n",
    "soup = bs4.BeautifulSoup(page,'lxml')"
   ]
  },
  {
   "cell_type": "code",
   "execution_count": 4,
   "metadata": {},
   "outputs": [],
   "source": [
    "# print(soup.prettify)"
   ]
  },
  {
   "cell_type": "code",
   "execution_count": 5,
   "metadata": {},
   "outputs": [
    {
     "name": "stdout",
     "output_type": "stream",
     "text": [
      "['AI & ML Training', 'Machine Learning', 'Angular 2', 'ReactJS Training', 'Mean Stack', 'Spring & Hibernate', 'Python & Django', 'Web Development', 'Complete Java', 'Data Analytics', 'JavaScript Training', 'Php Training', 'Drupal', 'HTML5', 'jQuery Ajax', 'Linux', 'AngularJS Training', '.Net training', 'Software Testing', 'Manual Testing', 'Automation', 'Vue.JS Training', 'Advance Java', 'NodeJS']\n"
     ]
    }
   ],
   "source": [
    "text = []\n",
    "for paragraph in soup.find_all('h4'):\n",
    "    text.append(paragraph.text)\n",
    "print(text)"
   ]
  },
  {
   "cell_type": "code",
   "execution_count": 6,
   "metadata": {},
   "outputs": [],
   "source": [
    "mean_stack = urllib.request.urlopen(\"https://zenrays.com/meanstack-training\")"
   ]
  },
  {
   "cell_type": "code",
   "execution_count": 7,
   "metadata": {},
   "outputs": [],
   "source": [
    "soup = bs4.BeautifulSoup(mean_stack,'lxml')"
   ]
  },
  {
   "cell_type": "code",
   "execution_count": 8,
   "metadata": {},
   "outputs": [
    {
     "data": {
      "text/plain": [
       "'Introduction to Single page application Development. How Angular is opinionated. Angular Vs React Vs VueJs vs Ember. Angular as a framework vs react as a library. Introduction to npm. Angular and npm Ecosystem. Evaluation Quiz 1 Installing Angular CLI. package.json and building app using npm and package.json. >Introduction to Angular Modules. Understanding base modules and application initializer. How modules help create modular and decoupled application. Understanding Angular Components. Create Basic component and display in the view. How component help to create organized application using custom tags. Using root component to initialize application. Evaluation Quiz 2 Angular Bootstrapping. Angular CLI Directory structure. .angular-cli.json file. main.ts as main application file. Creating multiple modules. Working with .module file. Understanding production and dev environments. Scope inheritance in Controllers. Using conditional statements *ngIf using Template modifier directives looping through data using *ngFor Understanding data bindings Working with different data binding and interpolations How to create components using CLI and regular Code Using imports in angular files Using decorators in Angular @Component decorator Using templates for html Using css files for components Constructor for components ngOnInit for initializations Evaulation Quiz 3 Creating components inside modules Passing data to components using @Input Attaching events in templates Working with ngModel Passing data outside components using Event Emitters Component Hooks, Different component hooks, their use Components lifecycle, Understanding how component is created, attached and destroyed Inter Component communication. How components can talk to each other. Using Pipes in Angular Inbuilt pipes in Angular Working with Currency Pipe Working with Date Pipe Lower and upper case pipe Json pipe for debugging Creating custom pipe through CLI @Pipe Decorator Using Transform function to transform response Creating custom pipe with multiple arguments Evaluation Quiz 4 Introduction to services Services as singletons Understanding dependency injection of Angular Service as a way to organize logic and data services Creating service using CLI and with custom code Working with @Injectable() decorator Organizing services in Project Code Working with inbuilt directives Introduction to custom directives API Creating custom directive through CLI @Directive Decorator Creating custom directive through Code Create directive to modify HTML and View ElementRef API Renderer API Creating events in custom directive using @HostListener Evaluation Quiz 5 Working with ngModel Template variable in Angular using # Template vars vs NgModel Creating forms and working with form events Collecting and handling form data Form validations Reactive forms vs template forms Introduction to reactive forms Creating form controls in code using Using FormGroup, FormControl, FormBuilder API Creating dynamic controls using FormsGroup and FormsControla Form validations using validator functions Validators, AbstractControl, ValidatorFn Form validation using directives as better approach Handling events in Forms Evaluation Quiz 6 Understanding Observables and subscribers Introduction to RXJS library Map function Introduction to REST Services Using GET,POST,PUT,DELETE Why we need rest services vs traditional AJAX approach Difference between httpmodule vs httpclient Using http module to connect to server and getting data Sending custom headers in angular frontend using Header Class RequestOptions class in Angular Creating a REST App using http module for CRUD operations Using HTTPclient to talk to server Create entire REST APP using HTTPClient Module Using Interceptors Securing Server Communications Evaluation Quiz 7 Introduction Unit testing Setting up unit testing using Karma Creating unit tests for components creating unit tests for services Evaluation Quiz 8 Authentication Using JWT Securing Angular Application Protecting against Attacks Deploying Angular Application Working with dist folder AOT Compilation Optimizing Angular App in Production Introduction what is Node.JS Importance of being asynchronous Asynchronous Javascript Node.JS event loop Node.JS process file system FS module Reading directories Reading Files Streaming Building servers Creating servers with HTTP Receiving data HTTP streaming Working with TCP CommonJS Modules npm Packages The Event Emitter API Nodemon Nodemailer Socket.io Cryptography Session Handling Cookie Handling Authentication Connecting with Slack App Introduction to ExpressJS Routing Configuration Views Middleware Working With Data Working With Socket.io Processes and cluster Child Process Module Why clusters The cluster object The worker object Best Practices NPM Node.js API design Error Handling Debugging Hosting Node Why do we need hosts Forever PM2 Node on Windows Node as a Windows Service IISNode Unit testing Exception Handling Unit Testing Event Loops Rest API Token Based Authentication Using JWT Promises Closures Prototyping Introduction to MongoDB Create database Create table Insert into Select from query Mongo sort Mongo delete Drop UPDATE Limit JOIN Advance concepts of MONGO Map Reduce MongoDB (nosql database) MongoDB with NodeJS Hands-on application Chat Application Book My Show App Mock Interview 1 Mock Interview 2 Mock Interview 3 Mock Interview 4 '"
      ]
     },
     "execution_count": 8,
     "metadata": {},
     "output_type": "execute_result"
    }
   ],
   "source": [
    "text = \"\"\n",
    "for each_div in soup.findAll(\"div\", class_=\"col-xs-6 col-sm-6 col-md-6 col-lg-6\"):\n",
    "    for each_ul in each_div.find_all(\"ul\", class_=\"featureList\"):\n",
    "        for each_li in each_ul.find_all('li'):\n",
    "            text += each_li.text\n",
    "            text += \" \"\n",
    "text"
   ]
  },
  {
   "cell_type": "code",
   "execution_count": 9,
   "metadata": {},
   "outputs": [],
   "source": [
    "# react = urllib.request.urlopen(\"https://zenrays.com/reactjs-training-in-bangalore\")\n",
    "# spring = urllib.request.urlopen(\"https://zenrays.com/spring-hibernate-training-in-bangalore\")\n",
    "# py_djan = urllib.request.urlopen(\"https://zenrays.com/python-training-in-bangalore\")\n",
    "# web_dev = urllib.request.urlopen(\"https://zenrays.com/web-development-course\")\n",
    "# comp_java = urllib.request.urlopen(\"https://zenrays.com/java-training-in-bangalore\")\n",
    "# javascipt = urllib.request.urlopen(\"https://zenrays.com/oops-javascript-training\")\n",
    "# php_train = urllib.request.urlopen(\"https://zenrays.com/php-training\")\n",
    "# drupal = urllib.request.urlopen(\"https://zenrays.com/drupal-training\")\n",
    "# html5 = urllib.request.urlopen(\"https://zenrays.com/html5-training\")\n",
    "# jquery = urllib.request.urlopen(\"https://zenrays.com/jquery-ajax-training\")\n",
    "# linux = urllib.request.urlopen(\"https://zenrays.com/linux-training-in-bangalore\")\n",
    "# angularjs = urllib.request.urlopen(\"https://zenrays.com/angularjs-training\")\n",
    "# net = urllib.request.urlopen(\"https://zenrays.com/dot-net-training-in-bangalore\")\n",
    "# testing = urllib.request.urlopen(\"https://zenrays.com/testing-courses\")\n",
    "# manual = urllib.request.urlopen(\"https://zenrays.com/manual-testing-training-in-bangalore\")\n",
    "# autom = urllib.request.urlopen(\"https://zenrays.com/automation-testing-training-in-bangalore\")\n",
    "# adv_java = urllib.request.urlopen(\"https://zenrays.com/advance-java-training-in-bangalore\")\n",
    "node = urllib.request.urlopen(\"https://zenrays.com/nodejs-training\")"
   ]
  },
  {
   "cell_type": "code",
   "execution_count": 10,
   "metadata": {},
   "outputs": [],
   "source": [
    "soup = bs4.BeautifulSoup(node,'lxml')"
   ]
  },
  {
   "cell_type": "code",
   "execution_count": 11,
   "metadata": {},
   "outputs": [],
   "source": [
    "text = \"\"\n",
    "for ana in soup.findAll('ul'):\n",
    "    if ana.parent.name == 'td':\n",
    "        text += ana.text\n",
    "        text += \" \"\n",
    "        text = text.replace('\\n', ' ')\n",
    "        text = text.replace('\\t', '')"
   ]
  },
  {
   "cell_type": "code",
   "execution_count": 12,
   "metadata": {},
   "outputs": [
    {
     "data": {
      "text/plain": [
       "' Introduction what is NodeJS Importance of being asynchronous Asynchronous Javascript NodeJS event loop NodeJS process file system FS module Reading directories Reading Files Streaming Building servers Creating servers with HTTP Receiving data HTTP streaming Working with TCP CommonJS Modules npm Packages The EventEmitter API   Introduction to ExpressJS Routing Configuration Views Middleware Working With Data Working With Socket.io Processes and cluster Child Process Module Why clusters The cluster object The worker object Best Practices NPM Node.js API design Error Handling Debugging Hosting Node Why do we need hosts Forever PM2 Node on Windows Node as a Windows Service IISNode Unit Testing   Mock Interview 1  Mock Interview 2 Mock Interview 3 Mock Interview 4  '"
      ]
     },
     "execution_count": 12,
     "metadata": {},
     "output_type": "execute_result"
    }
   ],
   "source": [
    "text"
   ]
  },
  {
   "cell_type": "code",
   "execution_count": 13,
   "metadata": {},
   "outputs": [],
   "source": [
    "vue = urllib.request.urlopen(\"https://zenrays.com/vue.js-training-in-bangalore\")"
   ]
  },
  {
   "cell_type": "code",
   "execution_count": 14,
   "metadata": {},
   "outputs": [],
   "source": [
    "soup = bs4.BeautifulSoup(vue,'lxml')"
   ]
  },
  {
   "cell_type": "code",
   "execution_count": 15,
   "metadata": {},
   "outputs": [],
   "source": [
    "text = \"\"\n",
    "for ana in soup.findAll('td'):\n",
    "    if ana.parent.name == 'tr':\n",
    "        text += ana.text\n",
    "        text += \" \"\n",
    "        text = text.replace('\\n', ' ')\n",
    "        text = text.replace('\\t', '')"
   ]
  },
  {
   "cell_type": "code",
   "execution_count": 16,
   "metadata": {},
   "outputs": [
    {
     "data": {
      "text/plain": [
       "' Getting Started Using VueJS to Interact with the DOM Using Conditionals and Rendering Lists First Course Project\\u200a—\\u200aThe Monster Slayer Understanding the VueJS Instance Moving to a “Real” Development Workflow with Webpack and Vue CLI An Introduction to Components Communicating between Components Advanced Component Usage Second Course Project\\u200a—\\u200aWonderful Quotes Handling User Input with Forms Using and Creating Directives Improving your App with Filters and Mixins Adding Animations and Transitions Connecting to Servers via Http\\u200a—\\u200aUsing vue-resource Routing in a VueJS Application Better State Management with Vuex Final Project\\u200a—\\u200aThe Stock Trader Deploying a VueJS Application Course Roundup  '"
      ]
     },
     "execution_count": 16,
     "metadata": {},
     "output_type": "execute_result"
    }
   ],
   "source": [
    "text"
   ]
  },
  {
   "cell_type": "code",
   "execution_count": null,
   "metadata": {},
   "outputs": [],
   "source": []
  }
 ],
 "metadata": {
  "kernelspec": {
   "display_name": "Python 3",
   "language": "python",
   "name": "python3"
  },
  "language_info": {
   "codemirror_mode": {
    "name": "ipython",
    "version": 3
   },
   "file_extension": ".py",
   "mimetype": "text/x-python",
   "name": "python",
   "nbconvert_exporter": "python",
   "pygments_lexer": "ipython3",
   "version": "3.6.8"
  }
 },
 "nbformat": 4,
 "nbformat_minor": 2
}
