{
 "cells": [
  {
   "cell_type": "code",
   "execution_count": 16,
   "metadata": {},
   "outputs": [],
   "source": [
    "import numpy as np\n",
    "import pandas as pd\n",
    "import matplotlib.pyplot as plt\n",
    "%matplotlib inline\n",
    "\n",
    "from sklearn import datasets\n",
    "from sklearn.model_selection import train_test_split, GridSearchCV\n",
    "from sklearn.linear_model import LogisticRegression\n",
    "from sklearn.neighbors import KNeighborsClassifier\n",
    "from sklearn.naive_bayes import MultinomialNB\n",
    "from sklearn.ensemble import RandomForestClassifier\n",
    "from sklearn.tree import DecisionTreeClassifier\n",
    "from sklearn.metrics import classification_report, confusion_matrix, roc_curve, roc_auc_score, auc,accuracy_score\n",
    "from sklearn.preprocessing import StandardScaler, MinMaxScaler\n",
    "from sklearn.pipeline import make_pipeline"
   ]
  },
  {
   "cell_type": "code",
   "execution_count": 3,
   "metadata": {},
   "outputs": [],
   "source": [
    "iris_data = datasets.load_iris()"
   ]
  },
  {
   "cell_type": "code",
   "execution_count": 4,
   "metadata": {},
   "outputs": [],
   "source": [
    "X = iris_data.data\n",
    "y = iris_data.target"
   ]
  },
  {
   "cell_type": "code",
   "execution_count": 7,
   "metadata": {},
   "outputs": [
    {
     "data": {
      "text/html": [
       "<div>\n",
       "<style scoped>\n",
       "    .dataframe tbody tr th:only-of-type {\n",
       "        vertical-align: middle;\n",
       "    }\n",
       "\n",
       "    .dataframe tbody tr th {\n",
       "        vertical-align: top;\n",
       "    }\n",
       "\n",
       "    .dataframe thead th {\n",
       "        text-align: right;\n",
       "    }\n",
       "</style>\n",
       "<table border=\"1\" class=\"dataframe\">\n",
       "  <thead>\n",
       "    <tr style=\"text-align: right;\">\n",
       "      <th></th>\n",
       "      <th>sepal length (cm)</th>\n",
       "      <th>sepal width (cm)</th>\n",
       "      <th>petal length (cm)</th>\n",
       "      <th>petal width (cm)</th>\n",
       "    </tr>\n",
       "  </thead>\n",
       "  <tbody>\n",
       "    <tr>\n",
       "      <th>0</th>\n",
       "      <td>5.1</td>\n",
       "      <td>3.5</td>\n",
       "      <td>1.4</td>\n",
       "      <td>0.2</td>\n",
       "    </tr>\n",
       "    <tr>\n",
       "      <th>1</th>\n",
       "      <td>4.9</td>\n",
       "      <td>3.0</td>\n",
       "      <td>1.4</td>\n",
       "      <td>0.2</td>\n",
       "    </tr>\n",
       "    <tr>\n",
       "      <th>2</th>\n",
       "      <td>4.7</td>\n",
       "      <td>3.2</td>\n",
       "      <td>1.3</td>\n",
       "      <td>0.2</td>\n",
       "    </tr>\n",
       "    <tr>\n",
       "      <th>3</th>\n",
       "      <td>4.6</td>\n",
       "      <td>3.1</td>\n",
       "      <td>1.5</td>\n",
       "      <td>0.2</td>\n",
       "    </tr>\n",
       "    <tr>\n",
       "      <th>4</th>\n",
       "      <td>5.0</td>\n",
       "      <td>3.6</td>\n",
       "      <td>1.4</td>\n",
       "      <td>0.2</td>\n",
       "    </tr>\n",
       "  </tbody>\n",
       "</table>\n",
       "</div>"
      ],
      "text/plain": [
       "   sepal length (cm)  sepal width (cm)  petal length (cm)  petal width (cm)\n",
       "0                5.1               3.5                1.4               0.2\n",
       "1                4.9               3.0                1.4               0.2\n",
       "2                4.7               3.2                1.3               0.2\n",
       "3                4.6               3.1                1.5               0.2\n",
       "4                5.0               3.6                1.4               0.2"
      ]
     },
     "execution_count": 7,
     "metadata": {},
     "output_type": "execute_result"
    }
   ],
   "source": [
    "df = pd.DataFrame(X, columns=iris_data.feature_names)\n",
    "df.head()"
   ]
  },
  {
   "cell_type": "code",
   "execution_count": 9,
   "metadata": {},
   "outputs": [
    {
     "data": {
      "text/plain": [
       "array([[<matplotlib.axes._subplots.AxesSubplot object at 0x1a191e9320>,\n",
       "        <matplotlib.axes._subplots.AxesSubplot object at 0x1a1921ac50>,\n",
       "        <matplotlib.axes._subplots.AxesSubplot object at 0x1a19255c50>,\n",
       "        <matplotlib.axes._subplots.AxesSubplot object at 0x1a1928acc0>],\n",
       "       [<matplotlib.axes._subplots.AxesSubplot object at 0x1a192c6da0>,\n",
       "        <matplotlib.axes._subplots.AxesSubplot object at 0x1a192c6dd8>,\n",
       "        <matplotlib.axes._subplots.AxesSubplot object at 0x1a19333710>,\n",
       "        <matplotlib.axes._subplots.AxesSubplot object at 0x1a1936a7f0>],\n",
       "       [<matplotlib.axes._subplots.AxesSubplot object at 0x1a193b57f0>,\n",
       "        <matplotlib.axes._subplots.AxesSubplot object at 0x1a193ee860>,\n",
       "        <matplotlib.axes._subplots.AxesSubplot object at 0x1a19417f60>,\n",
       "        <matplotlib.axes._subplots.AxesSubplot object at 0x1a19450f60>],\n",
       "       [<matplotlib.axes._subplots.AxesSubplot object at 0x1a19484fd0>,\n",
       "        <matplotlib.axes._subplots.AxesSubplot object at 0x1a194cb0f0>,\n",
       "        <matplotlib.axes._subplots.AxesSubplot object at 0x1a19427cf8>,\n",
       "        <matplotlib.axes._subplots.AxesSubplot object at 0x1a101efe10>]],\n",
       "      dtype=object)"
      ]
     },
     "execution_count": 9,
     "metadata": {},
     "output_type": "execute_result"
    },
    {
     "data": {
      "image/png": "[encoded data removed]",
      "text/plain": [
       "<matplotlib.figure.Figure at 0x1a191d9be0>"
      ]
     },
     "metadata": {},
     "output_type": "display_data"
    }
   ],
   "source": [
    "pd.plotting.scatter_matrix(df,c=y,figsize=[10,10],marker='E',s=150)"
   ]
  },
  {
   "cell_type": "code",
   "execution_count": 10,
   "metadata": {},
   "outputs": [
    {
     "data": {
      "text/html": [
       "<div>\n",
       "<style scoped>\n",
       "    .dataframe tbody tr th:only-of-type {\n",
       "        vertical-align: middle;\n",
       "    }\n",
       "\n",
       "    .dataframe tbody tr th {\n",
       "        vertical-align: top;\n",
       "    }\n",
       "\n",
       "    .dataframe thead th {\n",
       "        text-align: right;\n",
       "    }\n",
       "</style>\n",
       "<table border=\"1\" class=\"dataframe\">\n",
       "  <thead>\n",
       "    <tr style=\"text-align: right;\">\n",
       "      <th></th>\n",
       "      <th>sepal length (cm)</th>\n",
       "      <th>sepal width (cm)</th>\n",
       "      <th>petal length (cm)</th>\n",
       "      <th>petal width (cm)</th>\n",
       "    </tr>\n",
       "  </thead>\n",
       "  <tbody>\n",
       "    <tr>\n",
       "      <th>count</th>\n",
       "      <td>150.000000</td>\n",
       "      <td>150.000000</td>\n",
       "      <td>150.000000</td>\n",
       "      <td>150.000000</td>\n",
       "    </tr>\n",
       "    <tr>\n",
       "      <th>mean</th>\n",
       "      <td>5.843333</td>\n",
       "      <td>3.054000</td>\n",
       "      <td>3.758667</td>\n",
       "      <td>1.198667</td>\n",
       "    </tr>\n",
       "    <tr>\n",
       "      <th>std</th>\n",
       "      <td>0.828066</td>\n",
       "      <td>0.433594</td>\n",
       "      <td>1.764420</td>\n",
       "      <td>0.763161</td>\n",
       "    </tr>\n",
       "    <tr>\n",
       "      <th>min</th>\n",
       "      <td>4.300000</td>\n",
       "      <td>2.000000</td>\n",
       "      <td>1.000000</td>\n",
       "      <td>0.100000</td>\n",
       "    </tr>\n",
       "    <tr>\n",
       "      <th>25%</th>\n",
       "      <td>5.100000</td>\n",
       "      <td>2.800000</td>\n",
       "      <td>1.600000</td>\n",
       "      <td>0.300000</td>\n",
       "    </tr>\n",
       "    <tr>\n",
       "      <th>50%</th>\n",
       "      <td>5.800000</td>\n",
       "      <td>3.000000</td>\n",
       "      <td>4.350000</td>\n",
       "      <td>1.300000</td>\n",
       "    </tr>\n",
       "    <tr>\n",
       "      <th>75%</th>\n",
       "      <td>6.400000</td>\n",
       "      <td>3.300000</td>\n",
       "      <td>5.100000</td>\n",
       "      <td>1.800000</td>\n",
       "    </tr>\n",
       "    <tr>\n",
       "      <th>max</th>\n",
       "      <td>7.900000</td>\n",
       "      <td>4.400000</td>\n",
       "      <td>6.900000</td>\n",
       "      <td>2.500000</td>\n",
       "    </tr>\n",
       "  </tbody>\n",
       "</table>\n",
       "</div>"
      ],
      "text/plain": [
       "       sepal length (cm)  sepal width (cm)  petal length (cm)  \\\n",
       "count         150.000000        150.000000         150.000000   \n",
       "mean            5.843333          3.054000           3.758667   \n",
       "std             0.828066          0.433594           1.764420   \n",
       "min             4.300000          2.000000           1.000000   \n",
       "25%             5.100000          2.800000           1.600000   \n",
       "50%             5.800000          3.000000           4.350000   \n",
       "75%             6.400000          3.300000           5.100000   \n",
       "max             7.900000          4.400000           6.900000   \n",
       "\n",
       "       petal width (cm)  \n",
       "count        150.000000  \n",
       "mean           1.198667  \n",
       "std            0.763161  \n",
       "min            0.100000  \n",
       "25%            0.300000  \n",
       "50%            1.300000  \n",
       "75%            1.800000  \n",
       "max            2.500000  "
      ]
     },
     "execution_count": 10,
     "metadata": {},
     "output_type": "execute_result"
    }
   ],
   "source": [
    "df.describe()"
   ]
  },
  {
   "cell_type": "code",
   "execution_count": 12,
   "metadata": {},
   "outputs": [],
   "source": [
    "X_train, X_test,y_train,y_test = train_test_split(X,y,test_size=0.3,random_state=22)"
   ]
  },
  {
   "cell_type": "markdown",
   "metadata": {},
   "source": [
    "# Build a model"
   ]
  },
  {
   "cell_type": "markdown",
   "metadata": {},
   "source": [
    "### K-Nearest Neighbors classifier"
   ]
  },
  {
   "cell_type": "code",
   "execution_count": 43,
   "metadata": {},
   "outputs": [],
   "source": [
    "knn = KNeighborsClassifier(n_neighbors=10)"
   ]
  },
  {
   "cell_type": "code",
   "execution_count": 44,
   "metadata": {},
   "outputs": [
    {
     "data": {
      "text/plain": [
       "KNeighborsClassifier(algorithm='auto', leaf_size=30, metric='minkowski',\n",
       "           metric_params=None, n_jobs=1, n_neighbors=10, p=2,\n",
       "           weights='uniform')"
      ]
     },
     "execution_count": 44,
     "metadata": {},
     "output_type": "execute_result"
    }
   ],
   "source": [
    "knn.fit(X_train,y_train)"
   ]
  },
  {
   "cell_type": "code",
   "execution_count": 45,
   "metadata": {},
   "outputs": [
    {
     "data": {
      "text/plain": [
       "0.9809523809523809"
      ]
     },
     "execution_count": 45,
     "metadata": {},
     "output_type": "execute_result"
    }
   ],
   "source": [
    "knn.score(X_train,y_train)"
   ]
  },
  {
   "cell_type": "code",
   "execution_count": 46,
   "metadata": {},
   "outputs": [
    {
     "data": {
      "text/plain": [
       "0.9111111111111111"
      ]
     },
     "execution_count": 46,
     "metadata": {},
     "output_type": "execute_result"
    }
   ],
   "source": [
    "knn.score(X_test,y_test)"
   ]
  },
  {
   "cell_type": "code",
   "execution_count": 47,
   "metadata": {},
   "outputs": [],
   "source": [
    "y_pred_knn = knn.predict(X_test)"
   ]
  },
  {
   "cell_type": "code",
   "execution_count": 109,
   "metadata": {},
   "outputs": [],
   "source": [
    "acc_knn = accuracy_score(y_test,y_pred_knn)"
   ]
  },
  {
   "cell_type": "code",
   "execution_count": 110,
   "metadata": {},
   "outputs": [
    {
     "name": "stdout",
     "output_type": "stream",
     "text": [
      "Classification report :\n",
      "             precision    recall  f1-score   support\n",
      "\n",
      "          0       1.00      1.00      1.00        13\n",
      "          1       0.83      0.94      0.88        16\n",
      "          2       0.93      0.81      0.87        16\n",
      "\n",
      "avg / total       0.92      0.91      0.91        45\n",
      "\n",
      "\n",
      "\n",
      "Confusion Matrix :\n",
      "[[13  0  0]\n",
      " [ 0 15  1]\n",
      " [ 0  3 13]]\n",
      "\n",
      "\n",
      "Accuracy score :\n",
      "0.9111111111111111\n"
     ]
    }
   ],
   "source": [
    "print(\"Classification report :\")\n",
    "print(classification_report(y_test,y_pred_knn))\n",
    "print(\"\\n\")\n",
    "print(\"Confusion Matrix :\")\n",
    "print(confusion_matrix(y_test,y_pred_knn))\n",
    "print(\"\\n\")\n",
    "print(\"Accuracy score :\")\n",
    "print(accuracy_score(y_test,y_pred_knn))"
   ]
  },
  {
   "cell_type": "markdown",
   "metadata": {},
   "source": [
    "# Choosing the correct hyperparameter"
   ]
  },
  {
   "cell_type": "markdown",
   "metadata": {},
   "source": [
    "## GridSearchCV"
   ]
  },
  {
   "cell_type": "code",
   "execution_count": 38,
   "metadata": {},
   "outputs": [],
   "source": [
    "parameters = {'n_neighbors':range(1,50)}\n",
    "grid = GridSearchCV(knn, parameters,cv=5)"
   ]
  },
  {
   "cell_type": "code",
   "execution_count": 39,
   "metadata": {},
   "outputs": [
    {
     "data": {
      "text/plain": [
       "GridSearchCV(cv=5, error_score='raise',\n",
       "       estimator=KNeighborsClassifier(algorithm='auto', leaf_size=30, metric='minkowski',\n",
       "           metric_params=None, n_jobs=1, n_neighbors=3, p=2,\n",
       "           weights='uniform'),\n",
       "       fit_params=None, iid=True, n_jobs=1,\n",
       "       param_grid={'n_neighbors': range(1, 50)}, pre_dispatch='2*n_jobs',\n",
       "       refit=True, return_train_score='warn', scoring=None, verbose=0)"
      ]
     },
     "execution_count": 39,
     "metadata": {},
     "output_type": "execute_result"
    }
   ],
   "source": [
    "grid.fit(X_train,y_train)"
   ]
  },
  {
   "cell_type": "code",
   "execution_count": 40,
   "metadata": {},
   "outputs": [
    {
     "data": {
      "text/plain": [
       "{'n_neighbors': 10}"
      ]
     },
     "execution_count": 40,
     "metadata": {},
     "output_type": "execute_result"
    }
   ],
   "source": [
    "grid.best_params_"
   ]
  },
  {
   "cell_type": "code",
   "execution_count": 41,
   "metadata": {},
   "outputs": [
    {
     "data": {
      "text/plain": [
       "0.9904761904761905"
      ]
     },
     "execution_count": 41,
     "metadata": {},
     "output_type": "execute_result"
    }
   ],
   "source": [
    "grid.best_score_"
   ]
  },
  {
   "cell_type": "code",
   "execution_count": 42,
   "metadata": {},
   "outputs": [
    {
     "data": {
      "text/plain": [
       "0.9111111111111111"
      ]
     },
     "execution_count": 42,
     "metadata": {},
     "output_type": "execute_result"
    }
   ],
   "source": [
    "grid.score(X_test,y_test)"
   ]
  },
  {
   "cell_type": "code",
   "execution_count": 111,
   "metadata": {},
   "outputs": [],
   "source": [
    "y_pred_grid = grid.predict(X_test)"
   ]
  },
  {
   "cell_type": "code",
   "execution_count": 112,
   "metadata": {},
   "outputs": [],
   "source": [
    "acc_grid = accuracy_score(y_test,y_pred_grid)"
   ]
  },
  {
   "cell_type": "code",
   "execution_count": 113,
   "metadata": {},
   "outputs": [
    {
     "data": {
      "text/plain": [
       "0.9111111111111111"
      ]
     },
     "execution_count": 113,
     "metadata": {},
     "output_type": "execute_result"
    }
   ],
   "source": [
    "acc_grid"
   ]
  },
  {
   "cell_type": "markdown",
   "metadata": {},
   "source": [
    "## MultinomialNB"
   ]
  },
  {
   "cell_type": "code",
   "execution_count": 62,
   "metadata": {},
   "outputs": [],
   "source": [
    "naive = MultinomialNB()"
   ]
  },
  {
   "cell_type": "code",
   "execution_count": 63,
   "metadata": {},
   "outputs": [
    {
     "data": {
      "text/plain": [
       "MultinomialNB(alpha=1.0, class_prior=None, fit_prior=True)"
      ]
     },
     "execution_count": 63,
     "metadata": {},
     "output_type": "execute_result"
    }
   ],
   "source": [
    "naive.fit(X_train,y_train)"
   ]
  },
  {
   "cell_type": "code",
   "execution_count": 64,
   "metadata": {},
   "outputs": [
    {
     "data": {
      "text/plain": [
       "0.9619047619047619"
      ]
     },
     "execution_count": 64,
     "metadata": {},
     "output_type": "execute_result"
    }
   ],
   "source": [
    "naive.score(X_train,y_train)"
   ]
  },
  {
   "cell_type": "code",
   "execution_count": 65,
   "metadata": {},
   "outputs": [
    {
     "data": {
      "text/plain": [
       "0.9555555555555556"
      ]
     },
     "execution_count": 65,
     "metadata": {},
     "output_type": "execute_result"
    }
   ],
   "source": [
    "naive.score(X_test,y_test)"
   ]
  },
  {
   "cell_type": "code",
   "execution_count": 66,
   "metadata": {},
   "outputs": [],
   "source": [
    "y_pred_mul = naive.predict(X_test)"
   ]
  },
  {
   "cell_type": "code",
   "execution_count": 115,
   "metadata": {},
   "outputs": [],
   "source": [
    "acc_mul = accuracy_score(y_test,y_pred_mul)"
   ]
  },
  {
   "cell_type": "code",
   "execution_count": 116,
   "metadata": {},
   "outputs": [
    {
     "name": "stdout",
     "output_type": "stream",
     "text": [
      "Classification report :\n",
      "             precision    recall  f1-score   support\n",
      "\n",
      "          0       1.00      1.00      1.00        13\n",
      "          1       0.89      1.00      0.94        16\n",
      "          2       1.00      0.88      0.93        16\n",
      "\n",
      "avg / total       0.96      0.96      0.96        45\n",
      "\n",
      "\n",
      "\n",
      "Confusion Matrix :\n",
      "[[13  0  0]\n",
      " [ 0 16  0]\n",
      " [ 0  2 14]]\n",
      "\n",
      "\n",
      "Accuracy score :\n",
      "0.9555555555555556\n"
     ]
    }
   ],
   "source": [
    "print(\"Classification report :\")\n",
    "print(classification_report(y_test,y_pred_mul))\n",
    "print(\"\\n\")\n",
    "print(\"Confusion Matrix :\")\n",
    "print(confusion_matrix(y_test,y_pred_mul))\n",
    "print(\"\\n\")\n",
    "print(\"Accuracy score :\")\n",
    "print(accuracy_score(y_test,y_pred_mul))"
   ]
  },
  {
   "cell_type": "markdown",
   "metadata": {},
   "source": [
    "# RandomForestClassifier"
   ]
  },
  {
   "cell_type": "code",
   "execution_count": 72,
   "metadata": {},
   "outputs": [],
   "source": [
    "rfc = RandomForestClassifier(random_state=1,n_estimators=5)"
   ]
  },
  {
   "cell_type": "code",
   "execution_count": 73,
   "metadata": {},
   "outputs": [
    {
     "data": {
      "text/plain": [
       "RandomForestClassifier(bootstrap=True, class_weight=None, criterion='gini',\n",
       "            max_depth=None, max_features='auto', max_leaf_nodes=None,\n",
       "            min_impurity_decrease=0.0, min_impurity_split=None,\n",
       "            min_samples_leaf=1, min_samples_split=2,\n",
       "            min_weight_fraction_leaf=0.0, n_estimators=5, n_jobs=1,\n",
       "            oob_score=False, random_state=1, verbose=0, warm_start=False)"
      ]
     },
     "execution_count": 73,
     "metadata": {},
     "output_type": "execute_result"
    }
   ],
   "source": [
    "rfc.fit(X_train,y_train)"
   ]
  },
  {
   "cell_type": "code",
   "execution_count": 74,
   "metadata": {},
   "outputs": [
    {
     "data": {
      "text/plain": [
       "0.9904761904761905"
      ]
     },
     "execution_count": 74,
     "metadata": {},
     "output_type": "execute_result"
    }
   ],
   "source": [
    "rfc.score(X_train,y_train)"
   ]
  },
  {
   "cell_type": "code",
   "execution_count": 75,
   "metadata": {},
   "outputs": [
    {
     "data": {
      "text/plain": [
       "0.9111111111111111"
      ]
     },
     "execution_count": 75,
     "metadata": {},
     "output_type": "execute_result"
    }
   ],
   "source": [
    "rfc.score(X_test,y_test)"
   ]
  },
  {
   "cell_type": "code",
   "execution_count": 76,
   "metadata": {},
   "outputs": [],
   "source": [
    "y_pred_rfc = naive.predict(X_test)"
   ]
  },
  {
   "cell_type": "code",
   "execution_count": 117,
   "metadata": {},
   "outputs": [],
   "source": [
    "acc_rfc = accuracy_score(y_test,y_pred_rfc)"
   ]
  },
  {
   "cell_type": "code",
   "execution_count": 77,
   "metadata": {},
   "outputs": [
    {
     "name": "stdout",
     "output_type": "stream",
     "text": [
      "Classification report :\n",
      "             precision    recall  f1-score   support\n",
      "\n",
      "          0       1.00      1.00      1.00        13\n",
      "          1       0.89      1.00      0.94        16\n",
      "          2       1.00      0.88      0.93        16\n",
      "\n",
      "avg / total       0.96      0.96      0.96        45\n",
      "\n",
      "\n",
      "\n",
      "Confusion Matrix :\n",
      "[[13  0  0]\n",
      " [ 0 16  0]\n",
      " [ 0  2 14]]\n",
      "\n",
      "\n",
      "Accuracy score :\n",
      "0.9555555555555556\n"
     ]
    }
   ],
   "source": [
    "print(\"Classification report :\")\n",
    "print(classification_report(y_test,y_pred_rfc))\n",
    "print(\"\\n\")\n",
    "print(\"Confusion Matrix :\")\n",
    "print(confusion_matrix(y_test,y_pred_rfc))\n",
    "print(\"\\n\")\n",
    "print(\"Accuracy score :\")\n",
    "print(accuracy_score(y_test,y_pred_rfc))"
   ]
  },
  {
   "cell_type": "markdown",
   "metadata": {},
   "source": [
    "# Using Neural Network"
   ]
  },
  {
   "cell_type": "code",
   "execution_count": 78,
   "metadata": {},
   "outputs": [],
   "source": [
    "from keras.models import Sequential\n",
    "from keras.layers import Dense, Dropout\n",
    "from keras.utils import to_categorical"
   ]
  },
  {
   "cell_type": "code",
   "execution_count": 79,
   "metadata": {},
   "outputs": [],
   "source": [
    "model = Sequential()"
   ]
  },
  {
   "cell_type": "code",
   "execution_count": 98,
   "metadata": {},
   "outputs": [],
   "source": [
    "model.add(Dense(100,activation='relu',input_shape=(4,)))\n",
    "# model.add(Dropout(0.2))\n",
    "model.add(Dense(100,activation='relu'))\n",
    "model.add(Dense(3,activation='softmax'))"
   ]
  },
  {
   "cell_type": "code",
   "execution_count": 99,
   "metadata": {},
   "outputs": [
    {
     "data": {
      "text/plain": [
       "(105, 3)"
      ]
     },
     "execution_count": 99,
     "metadata": {},
     "output_type": "execute_result"
    }
   ],
   "source": [
    "y_cat_train = to_categorical(y_train)\n",
    "y_cat_test = to_categorical(y_test)\n",
    "y_cat_train.shape"
   ]
  },
  {
   "cell_type": "code",
   "execution_count": 100,
   "metadata": {},
   "outputs": [],
   "source": [
    "model.compile(loss='categorical_crossentropy',optimizer='adam',metrics=['accuracy'])"
   ]
  },
  {
   "cell_type": "code",
   "execution_count": 103,
   "metadata": {},
   "outputs": [
    {
     "name": "stdout",
     "output_type": "stream",
     "text": [
      "Epoch 1/100\n",
      "105/105 [==============================] - 0s 224us/step - loss: 0.4171 - acc: 0.8000\n",
      "Epoch 2/100\n",
      "105/105 [==============================] - 0s 241us/step - loss: 0.4159 - acc: 0.7714\n",
      "Epoch 3/100\n",
      "105/105 [==============================] - 0s 260us/step - loss: 0.3785 - acc: 0.8381\n",
      "Epoch 4/100\n",
      "105/105 [==============================] - 0s 284us/step - loss: 0.3650 - acc: 0.8381\n",
      "Epoch 5/100\n",
      "105/105 [==============================] - 0s 247us/step - loss: 0.3947 - acc: 0.7810\n",
      "Epoch 6/100\n",
      "105/105 [==============================] - 0s 230us/step - loss: 0.4925 - acc: 0.8381\n",
      "Epoch 7/100\n",
      "105/105 [==============================] - 0s 267us/step - loss: 0.3501 - acc: 0.8476\n",
      "Epoch 8/100\n",
      "105/105 [==============================] - 0s 237us/step - loss: 0.3747 - acc: 0.8571\n",
      "Epoch 9/100\n",
      "105/105 [==============================] - 0s 261us/step - loss: 0.3927 - acc: 0.8286\n",
      "Epoch 10/100\n",
      "105/105 [==============================] - 0s 243us/step - loss: 0.3565 - acc: 0.8667\n",
      "Epoch 11/100\n",
      "105/105 [==============================] - 0s 233us/step - loss: 0.3765 - acc: 0.8190\n",
      "Epoch 12/100\n",
      "105/105 [==============================] - 0s 275us/step - loss: 0.3573 - acc: 0.8286\n",
      "Epoch 13/100\n",
      "105/105 [==============================] - 0s 245us/step - loss: 0.3510 - acc: 0.8857\n",
      "Epoch 14/100\n",
      "105/105 [==============================] - 0s 243us/step - loss: 0.3425 - acc: 0.8476\n",
      "Epoch 15/100\n",
      "105/105 [==============================] - 0s 277us/step - loss: 0.2730 - acc: 0.8952\n",
      "Epoch 16/100\n",
      "105/105 [==============================] - 0s 261us/step - loss: 0.3107 - acc: 0.8667\n",
      "Epoch 17/100\n",
      "105/105 [==============================] - 0s 253us/step - loss: 0.2428 - acc: 0.8952\n",
      "Epoch 18/100\n",
      "105/105 [==============================] - 0s 280us/step - loss: 0.2825 - acc: 0.8857\n",
      "Epoch 19/100\n",
      "105/105 [==============================] - 0s 245us/step - loss: 0.2478 - acc: 0.9333\n",
      "Epoch 20/100\n",
      "105/105 [==============================] - 0s 261us/step - loss: 0.2779 - acc: 0.9333\n",
      "Epoch 21/100\n",
      "105/105 [==============================] - 0s 315us/step - loss: 0.2348 - acc: 0.9333\n",
      "Epoch 22/100\n",
      "105/105 [==============================] - 0s 303us/step - loss: 0.1918 - acc: 0.9619\n",
      "Epoch 23/100\n",
      "105/105 [==============================] - 0s 299us/step - loss: 0.2514 - acc: 0.8857\n",
      "Epoch 24/100\n",
      "105/105 [==============================] - 0s 256us/step - loss: 0.2367 - acc: 0.9143\n",
      "Epoch 25/100\n",
      "105/105 [==============================] - 0s 288us/step - loss: 0.3083 - acc: 0.8857\n",
      "Epoch 26/100\n",
      "105/105 [==============================] - 0s 315us/step - loss: 0.2647 - acc: 0.8857\n",
      "Epoch 27/100\n",
      "105/105 [==============================] - 0s 294us/step - loss: 0.2012 - acc: 0.9429\n",
      "Epoch 28/100\n",
      "105/105 [==============================] - 0s 288us/step - loss: 0.2206 - acc: 0.9429\n",
      "Epoch 29/100\n",
      "105/105 [==============================] - 0s 302us/step - loss: 0.2258 - acc: 0.9143\n",
      "Epoch 30/100\n",
      "105/105 [==============================] - 0s 303us/step - loss: 0.1932 - acc: 0.9333\n",
      "Epoch 31/100\n",
      "105/105 [==============================] - 0s 327us/step - loss: 0.1913 - acc: 0.9333\n",
      "Epoch 32/100\n",
      "105/105 [==============================] - 0s 306us/step - loss: 0.1977 - acc: 0.9143\n",
      "Epoch 33/100\n",
      "105/105 [==============================] - 0s 316us/step - loss: 0.1992 - acc: 0.9238\n",
      "Epoch 34/100\n",
      "105/105 [==============================] - 0s 346us/step - loss: 0.1631 - acc: 0.9333\n",
      "Epoch 35/100\n",
      "105/105 [==============================] - 0s 300us/step - loss: 0.1736 - acc: 0.9429\n",
      "Epoch 36/100\n",
      "105/105 [==============================] - 0s 294us/step - loss: 0.1330 - acc: 0.9619\n",
      "Epoch 37/100\n",
      "105/105 [==============================] - 0s 321us/step - loss: 0.1722 - acc: 0.9429\n",
      "Epoch 38/100\n",
      "105/105 [==============================] - 0s 336us/step - loss: 0.2004 - acc: 0.9238\n",
      "Epoch 39/100\n",
      "105/105 [==============================] - 0s 313us/step - loss: 0.1762 - acc: 0.9429\n",
      "Epoch 40/100\n",
      "105/105 [==============================] - 0s 395us/step - loss: 0.2745 - acc: 0.8952\n",
      "Epoch 41/100\n",
      "105/105 [==============================] - 0s 338us/step - loss: 0.1639 - acc: 0.9619\n",
      "Epoch 42/100\n",
      "105/105 [==============================] - 0s 241us/step - loss: 0.2140 - acc: 0.9143\n",
      "Epoch 43/100\n",
      "105/105 [==============================] - 0s 347us/step - loss: 0.1331 - acc: 0.9714\n",
      "Epoch 44/100\n",
      "105/105 [==============================] - 0s 311us/step - loss: 0.1887 - acc: 0.9333\n",
      "Epoch 45/100\n",
      "105/105 [==============================] - 0s 288us/step - loss: 0.0890 - acc: 0.9810\n",
      "Epoch 46/100\n",
      "105/105 [==============================] - 0s 299us/step - loss: 0.1628 - acc: 0.9143\n",
      "Epoch 47/100\n",
      "105/105 [==============================] - 0s 331us/step - loss: 0.1748 - acc: 0.9333\n",
      "Epoch 48/100\n",
      "105/105 [==============================] - 0s 375us/step - loss: 0.1683 - acc: 0.9238\n",
      "Epoch 49/100\n",
      "105/105 [==============================] - 0s 306us/step - loss: 0.1426 - acc: 0.9524\n",
      "Epoch 50/100\n",
      "105/105 [==============================] - 0s 296us/step - loss: 0.1598 - acc: 0.9524\n",
      "Epoch 51/100\n",
      "105/105 [==============================] - 0s 321us/step - loss: 0.1596 - acc: 0.9429\n",
      "Epoch 52/100\n",
      "105/105 [==============================] - 0s 312us/step - loss: 0.1577 - acc: 0.9524\n",
      "Epoch 53/100\n",
      "105/105 [==============================] - 0s 259us/step - loss: 0.1686 - acc: 0.9143\n",
      "Epoch 54/100\n",
      "105/105 [==============================] - 0s 293us/step - loss: 0.1342 - acc: 0.9619\n",
      "Epoch 55/100\n",
      "105/105 [==============================] - 0s 241us/step - loss: 0.1472 - acc: 0.9429\n",
      "Epoch 56/100\n",
      "105/105 [==============================] - 0s 235us/step - loss: 0.1205 - acc: 0.9619\n",
      "Epoch 57/100\n",
      "105/105 [==============================] - 0s 224us/step - loss: 0.1434 - acc: 0.9429\n",
      "Epoch 58/100\n",
      "105/105 [==============================] - 0s 224us/step - loss: 0.0856 - acc: 0.9714\n",
      "Epoch 59/100\n",
      "105/105 [==============================] - 0s 232us/step - loss: 0.1682 - acc: 0.9333\n",
      "Epoch 60/100\n",
      "105/105 [==============================] - 0s 240us/step - loss: 0.1454 - acc: 0.9143\n",
      "Epoch 61/100\n",
      "105/105 [==============================] - 0s 220us/step - loss: 0.0831 - acc: 0.9714\n",
      "Epoch 62/100\n",
      "105/105 [==============================] - 0s 227us/step - loss: 0.1188 - acc: 0.9619\n",
      "Epoch 63/100\n",
      "105/105 [==============================] - 0s 238us/step - loss: 0.0848 - acc: 0.9714\n",
      "Epoch 64/100\n",
      "105/105 [==============================] - 0s 238us/step - loss: 0.1846 - acc: 0.9333\n",
      "Epoch 65/100\n",
      "105/105 [==============================] - 0s 222us/step - loss: 0.1083 - acc: 0.9619\n",
      "Epoch 66/100\n",
      "105/105 [==============================] - 0s 226us/step - loss: 0.1398 - acc: 0.9524\n",
      "Epoch 67/100\n",
      "105/105 [==============================] - 0s 235us/step - loss: 0.1785 - acc: 0.9238\n",
      "Epoch 68/100\n",
      "105/105 [==============================] - 0s 234us/step - loss: 0.1077 - acc: 0.9619\n",
      "Epoch 69/100\n",
      "105/105 [==============================] - 0s 232us/step - loss: 0.1419 - acc: 0.9524\n",
      "Epoch 70/100\n",
      "105/105 [==============================] - 0s 231us/step - loss: 0.1286 - acc: 0.9619\n",
      "Epoch 71/100\n",
      "105/105 [==============================] - 0s 240us/step - loss: 0.0821 - acc: 0.9714\n",
      "Epoch 72/100\n",
      "105/105 [==============================] - 0s 243us/step - loss: 0.0660 - acc: 0.9810\n",
      "Epoch 73/100\n",
      "105/105 [==============================] - 0s 255us/step - loss: 0.0966 - acc: 0.9714\n",
      "Epoch 74/100\n",
      "105/105 [==============================] - 0s 235us/step - loss: 0.1336 - acc: 0.9524\n",
      "Epoch 75/100\n",
      "105/105 [==============================] - 0s 249us/step - loss: 0.0652 - acc: 0.9905\n",
      "Epoch 76/100\n",
      "105/105 [==============================] - 0s 234us/step - loss: 0.1580 - acc: 0.9429\n",
      "Epoch 77/100\n",
      "105/105 [==============================] - 0s 239us/step - loss: 0.1120 - acc: 0.9619\n",
      "Epoch 78/100\n",
      "105/105 [==============================] - 0s 239us/step - loss: 0.1771 - acc: 0.9429\n",
      "Epoch 79/100\n",
      "105/105 [==============================] - 0s 233us/step - loss: 0.1192 - acc: 0.9619\n",
      "Epoch 80/100\n",
      "105/105 [==============================] - 0s 218us/step - loss: 0.1208 - acc: 0.9524\n",
      "Epoch 81/100\n",
      "105/105 [==============================] - 0s 231us/step - loss: 0.0864 - acc: 0.9905\n",
      "Epoch 82/100\n",
      "105/105 [==============================] - 0s 231us/step - loss: 0.1096 - acc: 0.9619\n",
      "Epoch 83/100\n"
     ]
    },
    {
     "name": "stdout",
     "output_type": "stream",
     "text": [
      "105/105 [==============================] - 0s 236us/step - loss: 0.1401 - acc: 0.9524\n",
      "Epoch 84/100\n",
      "105/105 [==============================] - 0s 246us/step - loss: 0.0986 - acc: 0.9619\n",
      "Epoch 85/100\n",
      "105/105 [==============================] - 0s 226us/step - loss: 0.1023 - acc: 0.9619\n",
      "Epoch 86/100\n",
      "105/105 [==============================] - 0s 227us/step - loss: 0.1447 - acc: 0.9429\n",
      "Epoch 87/100\n",
      "105/105 [==============================] - 0s 223us/step - loss: 0.1431 - acc: 0.9524\n",
      "Epoch 88/100\n",
      "105/105 [==============================] - 0s 242us/step - loss: 0.1218 - acc: 0.9524\n",
      "Epoch 89/100\n",
      "105/105 [==============================] - 0s 238us/step - loss: 0.0848 - acc: 0.9619\n",
      "Epoch 90/100\n",
      "105/105 [==============================] - 0s 227us/step - loss: 0.1454 - acc: 0.9333\n",
      "Epoch 91/100\n",
      "105/105 [==============================] - 0s 235us/step - loss: 0.0901 - acc: 0.9619\n",
      "Epoch 92/100\n",
      "105/105 [==============================] - 0s 228us/step - loss: 0.1181 - acc: 0.9619\n",
      "Epoch 93/100\n",
      "105/105 [==============================] - 0s 240us/step - loss: 0.0889 - acc: 0.9619\n",
      "Epoch 94/100\n",
      "105/105 [==============================] - 0s 229us/step - loss: 0.1356 - acc: 0.9429\n",
      "Epoch 95/100\n",
      "105/105 [==============================] - 0s 232us/step - loss: 0.1212 - acc: 0.9619\n",
      "Epoch 96/100\n",
      "105/105 [==============================] - 0s 234us/step - loss: 0.1358 - acc: 0.9429\n",
      "Epoch 97/100\n",
      "105/105 [==============================] - 0s 237us/step - loss: 0.1370 - acc: 0.9333\n",
      "Epoch 98/100\n",
      "105/105 [==============================] - 0s 222us/step - loss: 0.1499 - acc: 0.9524\n",
      "Epoch 99/100\n",
      "105/105 [==============================] - 0s 226us/step - loss: 0.1068 - acc: 0.9714\n",
      "Epoch 100/100\n",
      "105/105 [==============================] - 0s 237us/step - loss: 0.1004 - acc: 0.9619\n"
     ]
    },
    {
     "data": {
      "text/plain": [
       "<keras.callbacks.History at 0x1a3b93f240>"
      ]
     },
     "execution_count": 103,
     "metadata": {},
     "output_type": "execute_result"
    }
   ],
   "source": [
    "model.fit(X_train,y_cat_train,epochs=100)"
   ]
  },
  {
   "cell_type": "code",
   "execution_count": 104,
   "metadata": {},
   "outputs": [],
   "source": [
    "y_pred_nn = model.predict(X_test).argmax(1)"
   ]
  },
  {
   "cell_type": "code",
   "execution_count": 105,
   "metadata": {},
   "outputs": [
    {
     "data": {
      "text/plain": [
       "array([0, 2, 1, 2, 1, 1, 1, 2, 1, 0, 2, 1, 2, 2, 0, 2, 1, 1, 2, 1, 0, 2,\n",
       "       0, 1, 2, 0, 2, 2, 2, 2, 0, 0, 1, 1, 1, 0, 0, 0, 2, 2, 1, 1, 0, 0,\n",
       "       1])"
      ]
     },
     "execution_count": 105,
     "metadata": {},
     "output_type": "execute_result"
    }
   ],
   "source": [
    "y_pred_nn"
   ]
  },
  {
   "cell_type": "code",
   "execution_count": 108,
   "metadata": {},
   "outputs": [
    {
     "name": "stdout",
     "output_type": "stream",
     "text": [
      "45\n",
      "Accuracy : 1.0\n"
     ]
    }
   ],
   "source": [
    "count = 0\n",
    "for i in range(len(y_pred_nn)):\n",
    "    if y_test[i] == y_pred_nn[i]:\n",
    "        count += 1\n",
    "print(count)\n",
    "print(\"Accuracy :\", count/len(y_pred_nn))"
   ]
  },
  {
   "cell_type": "code",
   "execution_count": 118,
   "metadata": {},
   "outputs": [],
   "source": [
    "acc_nn = count/len(y_pred_nn)"
   ]
  },
  {
   "cell_type": "code",
   "execution_count": null,
   "metadata": {},
   "outputs": [],
   "source": [
    "models = pd.DataFrame({\n",
    "    'Model': ['KNeighborsClassifier', 'GridSearchCv', 'RandomForest','Naive Bayes', 'Neural Network', 'Linear SVC', \n",
    "              'Decision Tree', 'Stochastic Gradient Descent', 'Gradient Boosting Classifier'],\n",
    "    'Score': [acc_svc, acc_knn, acc_logreg, \n",
    "              acc_randomforest, acc_gaussian, acc_perceptron,acc_linear_svc, acc_decisiontree,\n",
    "              acc_sgd, acc_gbk]})\n",
    "models.sort_values(by='Score', ascending=False)"
   ]
  }
 ],
 "metadata": {
  "kernelspec": {
   "display_name": "Python 3",
   "language": "python",
   "name": "python3"
  },
  "language_info": {
   "codemirror_mode": {
    "name": "ipython",
    "version": 3
   },
   "file_extension": ".py",
   "mimetype": "text/x-python",
   "name": "python",
   "nbconvert_exporter": "python",
   "pygments_lexer": "ipython3",
   "version": "3.6.8"
  }
 },
 "nbformat": 4,
 "nbformat_minor": 2
}
